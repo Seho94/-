{
 "cells": [
  {
   "cell_type": "markdown",
   "id": "5b14ec3b-1771-432d-8c55-bd7a6d464729",
   "metadata": {},
   "source": [
    "# 5.1 문자열"
   ]
  },
  {
   "cell_type": "code",
   "execution_count": 1,
   "id": "d63d7152-319b-44d6-8307-47748373552c",
   "metadata": {},
   "outputs": [],
   "source": [
    "a = \"파이썬\""
   ]
  },
  {
   "cell_type": "code",
   "execution_count": 2,
   "id": "72e3b24b-7d49-42e9-bfd6-1b63b5e1a944",
   "metadata": {},
   "outputs": [
    {
     "name": "stdout",
     "output_type": "stream",
     "text": [
      "파이썬\n"
     ]
    }
   ],
   "source": [
    "print(a)"
   ]
  },
  {
   "cell_type": "code",
   "execution_count": 3,
   "id": "414843d5-8309-478b-81b4-697bae77898a",
   "metadata": {},
   "outputs": [],
   "source": [
    "b = \"문자열\""
   ]
  },
  {
   "cell_type": "code",
   "execution_count": 4,
   "id": "905364d5-9820-48d5-ba1d-9b3d3f9c731c",
   "metadata": {},
   "outputs": [
    {
     "name": "stdout",
     "output_type": "stream",
     "text": [
      "문자열\n"
     ]
    }
   ],
   "source": [
    "print(b)"
   ]
  },
  {
   "cell_type": "code",
   "execution_count": 5,
   "id": "58c9f3e8-011b-40c4-b0a4-9a9b382e94a1",
   "metadata": {},
   "outputs": [],
   "source": [
    "c = \"\"\"\n",
    "죽는 날까지 하늘을 우러러\n",
    "한 점 부끄럼 없기를\n",
    "잎새에 이는 바람에도\n",
    "나는 괴로워 했다\n",
    "\"\"\""
   ]
  },
  {
   "cell_type": "code",
   "execution_count": 6,
   "id": "41f17e6a-7738-45a8-af9f-c03196b1785d",
   "metadata": {},
   "outputs": [
    {
     "name": "stdout",
     "output_type": "stream",
     "text": [
      "\n",
      "죽는 날까지 하늘을 우러러\n",
      "한 점 부끄럼 없기를\n",
      "잎새에 이는 바람에도\n",
      "나는 괴로워 했다\n",
      "\n"
     ]
    }
   ],
   "source": [
    "print(c)"
   ]
  },
  {
   "cell_type": "code",
   "execution_count": 7,
   "id": "d658b993-6a33-42e8-9a59-b20e24718b62",
   "metadata": {},
   "outputs": [
    {
     "ename": "TypeError",
     "evalue": "can only concatenate str (not \"int\") to str",
     "output_type": "error",
     "traceback": [
      "\u001b[1;31m---------------------------------------------------------------------------\u001b[0m",
      "\u001b[1;31mTypeError\u001b[0m                                 Traceback (most recent call last)",
      "\u001b[1;32m<ipython-input-7-ff25ad6d14ce>\u001b[0m in \u001b[0;36m<module>\u001b[1;34m\u001b[0m\n\u001b[1;32m----> 1\u001b[1;33m \u001b[1;34m'파이썬'\u001b[0m \u001b[1;33m+\u001b[0m \u001b[1;36m3\u001b[0m\u001b[1;33m\u001b[0m\u001b[1;33m\u001b[0m\u001b[0m\n\u001b[0m",
      "\u001b[1;31mTypeError\u001b[0m: can only concatenate str (not \"int\") to str"
     ]
    }
   ],
   "source": [
    "'파이썬' + 3"
   ]
  },
  {
   "cell_type": "code",
   "execution_count": 9,
   "id": "5d1de21b-a895-44b3-8833-b127a868eb39",
   "metadata": {},
   "outputs": [],
   "source": [
    "d = '파이썬' + str(3)"
   ]
  },
  {
   "cell_type": "code",
   "execution_count": 10,
   "id": "61d2f39b-0994-4ebd-9034-b3940c6a7145",
   "metadata": {},
   "outputs": [
    {
     "name": "stdout",
     "output_type": "stream",
     "text": [
      "파이썬3\n"
     ]
    }
   ],
   "source": [
    "print(d)"
   ]
  },
  {
   "cell_type": "code",
   "execution_count": 13,
   "id": "fa5bb8f8-b49d-43d0-aae2-b49d94aa2715",
   "metadata": {},
   "outputs": [],
   "source": [
    "e = '*' * 10"
   ]
  },
  {
   "cell_type": "code",
   "execution_count": 14,
   "id": "3eea5e17-3ff1-4abb-8dfa-8e578ccba1bf",
   "metadata": {},
   "outputs": [
    {
     "name": "stdout",
     "output_type": "stream",
     "text": [
      "**********\n"
     ]
    }
   ],
   "source": [
    "print(e)"
   ]
  },
  {
   "cell_type": "code",
   "execution_count": 15,
   "id": "54e4a4c8-cb45-434c-a9c4-1365e274ac2b",
   "metadata": {},
   "outputs": [],
   "source": [
    "a = \"Helloworld!\""
   ]
  },
  {
   "cell_type": "code",
   "execution_count": 16,
   "id": "a8043ee8-b7f1-415b-b401-8da0f671a95d",
   "metadata": {},
   "outputs": [
    {
     "data": {
      "text/plain": [
       "'Helloworld!'"
      ]
     },
     "execution_count": 16,
     "metadata": {},
     "output_type": "execute_result"
    }
   ],
   "source": [
    "a"
   ]
  },
  {
   "cell_type": "code",
   "execution_count": 17,
   "id": "f5b0a1ec-fdd6-424d-91ef-7a1cf9bd40ac",
   "metadata": {},
   "outputs": [
    {
     "data": {
      "text/plain": [
       "'H'"
      ]
     },
     "execution_count": 17,
     "metadata": {},
     "output_type": "execute_result"
    }
   ],
   "source": [
    "a[0]"
   ]
  },
  {
   "cell_type": "code",
   "execution_count": 18,
   "id": "f4fe2ee0-943f-4d8b-9f77-30bef4747ef1",
   "metadata": {},
   "outputs": [
    {
     "data": {
      "text/plain": [
       "'w'"
      ]
     },
     "execution_count": 18,
     "metadata": {},
     "output_type": "execute_result"
    }
   ],
   "source": [
    "a[5]"
   ]
  },
  {
   "cell_type": "code",
   "execution_count": 19,
   "id": "5d039320-9e0e-4d3c-929e-1c51f162a8a0",
   "metadata": {},
   "outputs": [
    {
     "data": {
      "text/plain": [
       "'!'"
      ]
     },
     "execution_count": 19,
     "metadata": {},
     "output_type": "execute_result"
    }
   ],
   "source": [
    "a[-1]"
   ]
  },
  {
   "cell_type": "code",
   "execution_count": 20,
   "id": "d1c27273-5a61-4ed1-bb65-1253e673d1d1",
   "metadata": {},
   "outputs": [
    {
     "data": {
      "text/plain": [
       "'d'"
      ]
     },
     "execution_count": 20,
     "metadata": {},
     "output_type": "execute_result"
    }
   ],
   "source": [
    "a[-2]"
   ]
  },
  {
   "cell_type": "code",
   "execution_count": 21,
   "id": "3ac76564-80a7-4823-b52d-61471151a333",
   "metadata": {},
   "outputs": [
    {
     "data": {
      "text/plain": [
       "'Hello'"
      ]
     },
     "execution_count": 21,
     "metadata": {},
     "output_type": "execute_result"
    }
   ],
   "source": [
    "a[:5]"
   ]
  },
  {
   "cell_type": "code",
   "execution_count": 22,
   "id": "162289cc-07d1-4bf8-b3a9-7b0a9763e301",
   "metadata": {},
   "outputs": [
    {
     "data": {
      "text/plain": [
       "'world!'"
      ]
     },
     "execution_count": 22,
     "metadata": {},
     "output_type": "execute_result"
    }
   ],
   "source": [
    "a[5:]"
   ]
  },
  {
   "cell_type": "code",
   "execution_count": 23,
   "id": "f2e9fbf9-21a5-4d11-8c5d-9ae6d1b7ecbe",
   "metadata": {},
   "outputs": [
    {
     "data": {
      "text/plain": [
       "'Helloworld!'"
      ]
     },
     "execution_count": 23,
     "metadata": {},
     "output_type": "execute_result"
    }
   ],
   "source": [
    "a[:]"
   ]
  },
  {
   "cell_type": "code",
   "execution_count": 25,
   "id": "2e55a54d-6a9f-476a-a6ee-954bd5e3e3b8",
   "metadata": {},
   "outputs": [
    {
     "data": {
      "text/plain": [
       "'Hlool!'"
      ]
     },
     "execution_count": 25,
     "metadata": {},
     "output_type": "execute_result"
    }
   ],
   "source": [
    "a[::2]"
   ]
  },
  {
   "cell_type": "code",
   "execution_count": 27,
   "id": "7e79d7b7-de7c-476a-bf70-e2d0a5460ce7",
   "metadata": {},
   "outputs": [
    {
     "data": {
      "text/plain": [
       "'!dlrowolleH'"
      ]
     },
     "execution_count": 27,
     "metadata": {},
     "output_type": "execute_result"
    }
   ],
   "source": [
    "a[::-1] # 역정렬"
   ]
  },
  {
   "cell_type": "code",
   "execution_count": 28,
   "id": "bb822ea5-e74e-4698-ae68-ed51dfa776f6",
   "metadata": {},
   "outputs": [
    {
     "data": {
      "text/plain": [
       "'!loolH'"
      ]
     },
     "execution_count": 28,
     "metadata": {},
     "output_type": "execute_result"
    }
   ],
   "source": [
    "a[::-2]"
   ]
  },
  {
   "cell_type": "markdown",
   "id": "e705cb13-009a-433a-b672-15e2b8250359",
   "metadata": {},
   "source": [
    "# 5.2 문자열 함수 실습"
   ]
  },
  {
   "cell_type": "code",
   "execution_count": 29,
   "id": "e4bff246-b4a4-4fbd-be83-550d81a20d64",
   "metadata": {},
   "outputs": [
    {
     "data": {
      "text/plain": [
       "16"
      ]
     },
     "execution_count": 29,
     "metadata": {},
     "output_type": "execute_result"
    }
   ],
   "source": [
    "len(\"HelloworldPython\")"
   ]
  },
  {
   "cell_type": "code",
   "execution_count": 30,
   "id": "6e597e26-b5dd-4e47-9eb8-fc7a6a96c274",
   "metadata": {},
   "outputs": [
    {
     "data": {
      "text/plain": [
       "'H-e-l-l-o-w-o-r-l-d-P-y-t-h-o-n'"
      ]
     },
     "execution_count": 30,
     "metadata": {},
     "output_type": "execute_result"
    }
   ],
   "source": [
    "'-'.join(\"HelloworldPython\")"
   ]
  },
  {
   "cell_type": "code",
   "execution_count": 31,
   "id": "42756bd1-32b0-4464-a1df-be9447717f6f",
   "metadata": {},
   "outputs": [
    {
     "data": {
      "text/plain": [
       "'1-2-3-4-5'"
      ]
     },
     "execution_count": 31,
     "metadata": {},
     "output_type": "execute_result"
    }
   ],
   "source": [
    "'-'.join(\"12345\")"
   ]
  },
  {
   "cell_type": "code",
   "execution_count": 32,
   "id": "8e3fc368-79e7-4542-9bb4-39e89a4e9d78",
   "metadata": {},
   "outputs": [
    {
     "data": {
      "text/plain": [
       "['Hello', 'world', 'Python']"
      ]
     },
     "execution_count": 32,
     "metadata": {},
     "output_type": "execute_result"
    }
   ],
   "source": [
    "\"Hello-world-Python\".split('-')"
   ]
  },
  {
   "cell_type": "code",
   "execution_count": 33,
   "id": "f98c34dc-922f-44da-b299-657cc6c869e2",
   "metadata": {},
   "outputs": [
    {
     "data": {
      "text/plain": [
       "['서울시', '마포구', '상암동', '1565']"
      ]
     },
     "execution_count": 33,
     "metadata": {},
     "output_type": "execute_result"
    }
   ],
   "source": [
    "'서울시 마포구 상암동 1565'.split()"
   ]
  },
  {
   "cell_type": "code",
   "execution_count": 34,
   "id": "7abbf87f-78a6-4d12-b10b-976a23235f44",
   "metadata": {},
   "outputs": [
    {
     "data": {
      "text/plain": [
       "'문자열 정리'"
      ]
     },
     "execution_count": 34,
     "metadata": {},
     "output_type": "execute_result"
    }
   ],
   "source": [
    "text = '\\t 문자열 정리     \\n'\n",
    "text.strip()"
   ]
  },
  {
   "cell_type": "code",
   "execution_count": 35,
   "id": "934e3820-6291-4411-aa6c-0d91946a51f4",
   "metadata": {},
   "outputs": [
    {
     "data": {
      "text/plain": [
       "'2016-08-30'"
      ]
     },
     "execution_count": 35,
     "metadata": {},
     "output_type": "execute_result"
    }
   ],
   "source": [
    "생일 = '2016/08/30'\n",
    "생일.replace('/','-')"
   ]
  },
  {
   "cell_type": "code",
   "execution_count": 36,
   "id": "09dffa6b-f898-489c-9e7f-3cf6c4edf72c",
   "metadata": {},
   "outputs": [
    {
     "data": {
      "text/plain": [
       "True"
      ]
     },
     "execution_count": 36,
     "metadata": {},
     "output_type": "execute_result"
    }
   ],
   "source": [
    "'Hello World Python'.startswith('Hello')"
   ]
  },
  {
   "cell_type": "code",
   "execution_count": 37,
   "id": "13398d3e-7ebe-40b9-815d-cf058604e95d",
   "metadata": {},
   "outputs": [
    {
     "data": {
      "text/plain": [
       "False"
      ]
     },
     "execution_count": 37,
     "metadata": {},
     "output_type": "execute_result"
    }
   ],
   "source": [
    "'Hello World Python'.startswith('hello')"
   ]
  },
  {
   "cell_type": "code",
   "execution_count": 38,
   "id": "6ecac553-572b-46a3-a033-af777ea13149",
   "metadata": {},
   "outputs": [
    {
     "data": {
      "text/plain": [
       "True"
      ]
     },
     "execution_count": 38,
     "metadata": {},
     "output_type": "execute_result"
    }
   ],
   "source": [
    "'Hello World Python'.endswith('Python')"
   ]
  },
  {
   "cell_type": "code",
   "execution_count": 39,
   "id": "7f55e4a1-7d7c-4ef5-9837-8f6210169d35",
   "metadata": {},
   "outputs": [
    {
     "data": {
      "text/plain": [
       "False"
      ]
     },
     "execution_count": 39,
     "metadata": {},
     "output_type": "execute_result"
    }
   ],
   "source": [
    "'Hello World Python'.endswith('python')"
   ]
  },
  {
   "cell_type": "code",
   "execution_count": 40,
   "id": "e7851b09-c862-4585-8c7f-297dc4d3406d",
   "metadata": {},
   "outputs": [
    {
     "data": {
      "text/plain": [
       "3"
      ]
     },
     "execution_count": 40,
     "metadata": {},
     "output_type": "execute_result"
    }
   ],
   "source": [
    "text = \"Hello World Python\"\n",
    "text.count('o')"
   ]
  },
  {
   "cell_type": "code",
   "execution_count": 41,
   "id": "45091662-dd36-4fdf-b2c9-1cbf82f986b5",
   "metadata": {},
   "outputs": [
    {
     "data": {
      "text/plain": [
       "2"
      ]
     },
     "execution_count": 41,
     "metadata": {},
     "output_type": "execute_result"
    }
   ],
   "source": [
    "text = 'Hello World Python, Welcome to Python World'\n",
    "text.count('Python')"
   ]
  },
  {
   "cell_type": "code",
   "execution_count": 42,
   "id": "4bc53bbe-8db4-4f68-ac24-461c83f3e475",
   "metadata": {},
   "outputs": [
    {
     "data": {
      "text/plain": [
       "4"
      ]
     },
     "execution_count": 42,
     "metadata": {},
     "output_type": "execute_result"
    }
   ],
   "source": [
    "text.index('o')"
   ]
  },
  {
   "cell_type": "code",
   "execution_count": 43,
   "id": "5859cad4-4eb0-408f-840c-63c8b66e6762",
   "metadata": {},
   "outputs": [
    {
     "data": {
      "text/plain": [
       "7"
      ]
     },
     "execution_count": 43,
     "metadata": {},
     "output_type": "execute_result"
    }
   ],
   "source": [
    "text.index('o', 5)"
   ]
  },
  {
   "cell_type": "code",
   "execution_count": 44,
   "id": "2810ee26-93bd-43c5-9a8e-fa3532cd20ce",
   "metadata": {},
   "outputs": [
    {
     "data": {
      "text/plain": [
       "12"
      ]
     },
     "execution_count": 44,
     "metadata": {},
     "output_type": "execute_result"
    }
   ],
   "source": [
    "text.find('Python')"
   ]
  },
  {
   "cell_type": "code",
   "execution_count": 45,
   "id": "a9a78694-73b9-4010-9b67-e01626b423e8",
   "metadata": {},
   "outputs": [
    {
     "data": {
      "text/plain": [
       "31"
      ]
     },
     "execution_count": 45,
     "metadata": {},
     "output_type": "execute_result"
    }
   ],
   "source": [
    "text.find('Python', 20)"
   ]
  },
  {
   "cell_type": "code",
   "execution_count": 46,
   "id": "8ff2a0dd-d273-4c66-ad26-40d342e43a60",
   "metadata": {},
   "outputs": [
    {
     "data": {
      "text/plain": [
       "'Hello world'"
      ]
     },
     "execution_count": 46,
     "metadata": {},
     "output_type": "execute_result"
    }
   ],
   "source": [
    "'Hello world'.capitalize()"
   ]
  },
  {
   "cell_type": "code",
   "execution_count": 47,
   "id": "747c0723-70e4-4476-95cc-ddd9111768fe",
   "metadata": {},
   "outputs": [
    {
     "data": {
      "text/plain": [
       "'hello world'"
      ]
     },
     "execution_count": 47,
     "metadata": {},
     "output_type": "execute_result"
    }
   ],
   "source": [
    "'Hello World'.lower()"
   ]
  },
  {
   "cell_type": "code",
   "execution_count": 48,
   "id": "7e2bd93d-4133-465f-af02-7c9e45917172",
   "metadata": {},
   "outputs": [
    {
     "data": {
      "text/plain": [
       "'HELLO WORLD'"
      ]
     },
     "execution_count": 48,
     "metadata": {},
     "output_type": "execute_result"
    }
   ],
   "source": [
    "'Hello World'.upper()"
   ]
  },
  {
   "cell_type": "code",
   "execution_count": 49,
   "id": "b7456311-668d-4318-85ba-93683bf7c492",
   "metadata": {},
   "outputs": [
    {
     "data": {
      "text/plain": [
       "True"
      ]
     },
     "execution_count": 49,
     "metadata": {},
     "output_type": "execute_result"
    }
   ],
   "source": [
    "'Python' in 'Hello World Python'"
   ]
  },
  {
   "cell_type": "code",
   "execution_count": 50,
   "id": "8f7aee12-4456-4275-b71b-4453a72cd451",
   "metadata": {},
   "outputs": [
    {
     "data": {
      "text/plain": [
       "False"
      ]
     },
     "execution_count": 50,
     "metadata": {},
     "output_type": "execute_result"
    }
   ],
   "source": [
    "'Java' in 'Hello World Python'"
   ]
  },
  {
   "cell_type": "markdown",
   "id": "99ee19da-1177-4452-a769-f43f18fb53e7",
   "metadata": {},
   "source": [
    "# 5.3 문자열 포매팅 실습"
   ]
  },
  {
   "cell_type": "code",
   "execution_count": 51,
   "id": "0aba2f12-b414-4128-a2f8-e77c890e7fdd",
   "metadata": {},
   "outputs": [],
   "source": [
    "name, age, phone = '홍길동', 25, '010-111-2222'"
   ]
  },
  {
   "cell_type": "code",
   "execution_count": 53,
   "id": "9f5ea655-d018-4beb-93f7-e1a89f4b490f",
   "metadata": {},
   "outputs": [
    {
     "data": {
      "text/plain": [
       "'이름은 홍길동 이고, 나이는 25 세 이며, 전화번호는 010-111-2222 입니다.'"
      ]
     },
     "execution_count": 53,
     "metadata": {},
     "output_type": "execute_result"
    }
   ],
   "source": [
    "소개 = \"이름은 {} 이고, 나이는 {} 세 이며, 전화번호는 {} 입니다.\".format(name, age, phone)\n",
    "소개"
   ]
  },
  {
   "cell_type": "code",
   "execution_count": 55,
   "id": "5095daf9-8627-42a6-a9cf-c0232ae8f91b",
   "metadata": {},
   "outputs": [
    {
     "data": {
      "text/plain": [
       "'이름은 홍길동 이고, 나이는 25 세 이며, 전화번호는 010-111-2222 입니다.'"
      ]
     },
     "execution_count": 55,
     "metadata": {},
     "output_type": "execute_result"
    }
   ],
   "source": [
    "소개 = \"이름은 {0} 이고, 나이는 {2} 세 이며, 전화번호는 {1} 입니다.\".format(name,phone,age)\n",
    "소개"
   ]
  },
  {
   "cell_type": "code",
   "execution_count": 56,
   "id": "ea95dd0d-8db7-496f-b95c-6d17752b78d1",
   "metadata": {},
   "outputs": [
    {
     "data": {
      "text/plain": [
       "'이름은 홍길동이고, 나이는 25세 이며, 전화번호는 010-111-2222 입니다.'"
      ]
     },
     "execution_count": 56,
     "metadata": {},
     "output_type": "execute_result"
    }
   ],
   "source": [
    "소개 = \"이름은 {a}이고, 나이는 {b}세 이며, 전화번호는 {c} 입니다.\".format(c=phone, a=name, b=age)\n",
    "소개"
   ]
  },
  {
   "cell_type": "code",
   "execution_count": 58,
   "id": "9d2c6319-391a-476c-a8cc-d5e3c8e79cbb",
   "metadata": {},
   "outputs": [
    {
     "data": {
      "text/plain": [
       "'이름은 홍길동이고, 나이는 25세 이며, 전화번호는 010-111-2222 입니다.'"
      ]
     },
     "execution_count": 58,
     "metadata": {},
     "output_type": "execute_result"
    }
   ],
   "source": [
    "소개 = f\"이름은 {name}이고, 나이는 {age}세 이며, 전화번호는 {phone} 입니다.\"\n",
    "소개"
   ]
  },
  {
   "cell_type": "code",
   "execution_count": 59,
   "id": "1ae8f97a-7f53-4f8a-bb1a-405711f8f6a9",
   "metadata": {},
   "outputs": [],
   "source": [
    "jan, dec = 1, 12"
   ]
  },
  {
   "cell_type": "code",
   "execution_count": 62,
   "id": "04bac205-b934-40ec-b538-2774a60146e0",
   "metadata": {},
   "outputs": [
    {
     "name": "stdout",
     "output_type": "stream",
     "text": [
      "한 해의 시작은 01월\n",
      "한 해의 마지막은 12월\n"
     ]
    }
   ],
   "source": [
    "print(\"한 해의 시작은 {:02d}월\".format(jan))\n",
    "print(\"한 해의 마지막은 {:02d}월\".format(dec))"
   ]
  },
  {
   "cell_type": "code",
   "execution_count": 63,
   "id": "3df6c9a4-540d-4b4a-843c-6ec5f252f244",
   "metadata": {},
   "outputs": [
    {
     "data": {
      "text/plain": [
       "'123,456,789'"
      ]
     },
     "execution_count": 63,
     "metadata": {},
     "output_type": "execute_result"
    }
   ],
   "source": [
    "val = 123456789\n",
    "money = \"{:,}\"\n",
    "money.format(val)"
   ]
  },
  {
   "cell_type": "code",
   "execution_count": 65,
   "id": "b4c0bd61-4d12-4cac-a88c-fb067335bf2d",
   "metadata": {},
   "outputs": [
    {
     "data": {
      "text/plain": [
       "'3, 3.000000, 3.0, 3.14, 33.33%'"
      ]
     },
     "execution_count": 65,
     "metadata": {},
     "output_type": "execute_result"
    }
   ],
   "source": [
    "'{}, {:f}, {:.1f}, {:.2f}, {:.2%}'.format(3,3,3,3.1415, 1/3)"
   ]
  },
  {
   "cell_type": "code",
   "execution_count": null,
   "id": "b93989fe-f285-4859-84f4-8d244d2bae2f",
   "metadata": {},
   "outputs": [],
   "source": []
  }
 ],
 "metadata": {
  "kernelspec": {
   "display_name": "Python 3",
   "language": "python",
   "name": "python3"
  },
  "language_info": {
   "codemirror_mode": {
    "name": "ipython",
    "version": 3
   },
   "file_extension": ".py",
   "mimetype": "text/x-python",
   "name": "python",
   "nbconvert_exporter": "python",
   "pygments_lexer": "ipython3",
   "version": "3.8.8"
  }
 },
 "nbformat": 4,
 "nbformat_minor": 5
}

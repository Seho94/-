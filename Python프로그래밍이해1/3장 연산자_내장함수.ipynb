{
 "cells": [
  {
   "cell_type": "markdown",
   "id": "e97a6e51-8e15-4b07-befa-425d813be5f8",
   "metadata": {},
   "source": [
    "# 3.1 파이썬 연산자"
   ]
  },
  {
   "cell_type": "markdown",
   "id": "89b71323-3713-4f26-91cb-8e24bed43216",
   "metadata": {},
   "source": [
    "더하기"
   ]
  },
  {
   "cell_type": "code",
   "execution_count": 2,
   "id": "1199d281-a24e-4a43-a339-34211d8de9e3",
   "metadata": {},
   "outputs": [
    {
     "data": {
      "text/plain": [
       "6"
      ]
     },
     "execution_count": 2,
     "metadata": {},
     "output_type": "execute_result"
    }
   ],
   "source": [
    "2 + 4"
   ]
  },
  {
   "cell_type": "markdown",
   "id": "d785bd46-190a-4b74-94d9-d8d652577593",
   "metadata": {},
   "source": [
    "빼기"
   ]
  },
  {
   "cell_type": "code",
   "execution_count": 3,
   "id": "cda23e83-1b00-4580-88a5-5fb9b1f33923",
   "metadata": {},
   "outputs": [
    {
     "data": {
      "text/plain": [
       "2"
      ]
     },
     "execution_count": 3,
     "metadata": {},
     "output_type": "execute_result"
    }
   ],
   "source": [
    "4 - 2"
   ]
  },
  {
   "cell_type": "markdown",
   "id": "12ac0956-9889-45a5-8c38-cfcfac124b40",
   "metadata": {},
   "source": [
    "곱하기"
   ]
  },
  {
   "cell_type": "code",
   "execution_count": 4,
   "id": "6e8ff2eb-8d21-4c40-9b06-7b52c9be76e8",
   "metadata": {},
   "outputs": [
    {
     "data": {
      "text/plain": [
       "8"
      ]
     },
     "execution_count": 4,
     "metadata": {},
     "output_type": "execute_result"
    }
   ],
   "source": [
    "2 * 4"
   ]
  },
  {
   "cell_type": "markdown",
   "id": "18a1ac6a-61c0-4059-aeb4-d0e474add878",
   "metadata": {},
   "source": [
    "나누기"
   ]
  },
  {
   "cell_type": "code",
   "execution_count": 5,
   "id": "efb32704-395c-4ff2-bd94-42b3cdc559f0",
   "metadata": {},
   "outputs": [
    {
     "data": {
      "text/plain": [
       "2.0"
      ]
     },
     "execution_count": 5,
     "metadata": {},
     "output_type": "execute_result"
    }
   ],
   "source": [
    "4 / 2"
   ]
  },
  {
   "cell_type": "markdown",
   "id": "df7d66a7-28ea-4c75-b3e8-b0710f7ed9ba",
   "metadata": {},
   "source": [
    "제곱"
   ]
  },
  {
   "cell_type": "code",
   "execution_count": 6,
   "id": "aebb80ed-2a45-43a6-b481-b3409b4a36b5",
   "metadata": {},
   "outputs": [
    {
     "data": {
      "text/plain": [
       "16"
      ]
     },
     "execution_count": 6,
     "metadata": {},
     "output_type": "execute_result"
    }
   ],
   "source": [
    "4 ** 2"
   ]
  },
  {
   "cell_type": "markdown",
   "id": "62f5f512-f704-476e-b684-4b5d9718eef2",
   "metadata": {},
   "source": [
    "몫"
   ]
  },
  {
   "cell_type": "code",
   "execution_count": 7,
   "id": "d4ebb2ee-760f-4a25-902b-8a2580bf4490",
   "metadata": {},
   "outputs": [
    {
     "data": {
      "text/plain": [
       "3.5"
      ]
     },
     "execution_count": 7,
     "metadata": {},
     "output_type": "execute_result"
    }
   ],
   "source": [
    "7 / 2"
   ]
  },
  {
   "cell_type": "markdown",
   "id": "fa96726d-2b60-4ea6-bd99-219f417f5152",
   "metadata": {},
   "source": [
    "정수몫"
   ]
  },
  {
   "cell_type": "code",
   "execution_count": 8,
   "id": "82e9c8c1-bd7f-4c1c-b1c1-595957c95706",
   "metadata": {},
   "outputs": [
    {
     "data": {
      "text/plain": [
       "3"
      ]
     },
     "execution_count": 8,
     "metadata": {},
     "output_type": "execute_result"
    }
   ],
   "source": [
    "7 // 2"
   ]
  },
  {
   "cell_type": "markdown",
   "id": "92f69cdb-8623-43ae-98b1-6029259e6b09",
   "metadata": {},
   "source": [
    "나머지"
   ]
  },
  {
   "cell_type": "code",
   "execution_count": 9,
   "id": "7b3e8374-c14e-4a77-bca4-75d90a5c4232",
   "metadata": {},
   "outputs": [
    {
     "data": {
      "text/plain": [
       "1"
      ]
     },
     "execution_count": 9,
     "metadata": {},
     "output_type": "execute_result"
    }
   ],
   "source": [
    "7 % 2"
   ]
  },
  {
   "cell_type": "markdown",
   "id": "6bdce388-dab5-48f3-82fc-d588b656b6bd",
   "metadata": {},
   "source": [
    "----------"
   ]
  },
  {
   "cell_type": "markdown",
   "id": "a01e7f44-bcdb-4b14-931c-431cc03d4402",
   "metadata": {},
   "source": [
    "파이썬 주석문"
   ]
  },
  {
   "cell_type": "code",
   "execution_count": 10,
   "id": "d9ef535d-3f50-47c7-bedd-95163cf51073",
   "metadata": {},
   "outputs": [],
   "source": [
    "# ctrl + /"
   ]
  },
  {
   "cell_type": "code",
   "execution_count": 11,
   "id": "03c7464d-e436-4764-9a94-7ab3333fa249",
   "metadata": {},
   "outputs": [],
   "source": [
    "# 파이썬 주석문"
   ]
  },
  {
   "cell_type": "code",
   "execution_count": 12,
   "id": "d6915949-63b0-4af8-8cd7-8d406bfef9e1",
   "metadata": {},
   "outputs": [],
   "source": [
    "# 파이썬\n",
    "# 주석문"
   ]
  },
  {
   "cell_type": "code",
   "execution_count": 13,
   "id": "ccb2e418-c92d-4bda-9225-2bb3b8bbd55d",
   "metadata": {},
   "outputs": [
    {
     "name": "stdout",
     "output_type": "stream",
     "text": [
      "1\n"
     ]
    }
   ],
   "source": [
    "'''\n",
    "파이썬\n",
    "블럭\n",
    "주석문\n",
    "'''\n",
    "print(1)"
   ]
  },
  {
   "cell_type": "markdown",
   "id": "8b188ac5-4d7e-4c83-9ad8-5f1ac49dd7ff",
   "metadata": {},
   "source": [
    "들여쓰기"
   ]
  },
  {
   "cell_type": "code",
   "execution_count": 14,
   "id": "4c2fed71-1652-47ec-b18a-6a3e6535272f",
   "metadata": {},
   "outputs": [
    {
     "name": "stdout",
     "output_type": "stream",
     "text": [
      "True\n"
     ]
    }
   ],
   "source": [
    "a = True\n",
    "if a:\n",
    "    print(\"True\")\n",
    "else:\n",
    "    print(\"False\")"
   ]
  },
  {
   "cell_type": "code",
   "execution_count": 16,
   "id": "e6185946-e825-473e-b72a-21332b17b0a8",
   "metadata": {},
   "outputs": [
    {
     "name": "stdout",
     "output_type": "stream",
     "text": [
      "True\n",
      "True End ...\n",
      "End...\n"
     ]
    }
   ],
   "source": [
    "a = True\n",
    "if a:\n",
    "    print(\"True\")\n",
    "    print(\"True End ...\")\n",
    "else:\n",
    "    print(\"False\")\n",
    "print(\"End...\")"
   ]
  },
  {
   "cell_type": "markdown",
   "id": "a75581a6-a861-4c15-bb23-08eab3441c9c",
   "metadata": {},
   "source": [
    "# 3.2 내장함수"
   ]
  },
  {
   "cell_type": "markdown",
   "id": "aad865ec-6837-40f2-9ea1-784960a9a4a2",
   "metadata": {},
   "source": [
    "print 함수"
   ]
  },
  {
   "cell_type": "code",
   "execution_count": 17,
   "id": "90ca543f-c614-4ea1-9f2a-ce3c651ff378",
   "metadata": {},
   "outputs": [
    {
     "name": "stdout",
     "output_type": "stream",
     "text": [
      "Hello world Python\n"
     ]
    }
   ],
   "source": [
    "print(\"Hello world Python\")"
   ]
  },
  {
   "cell_type": "code",
   "execution_count": 18,
   "id": "524ef950-e653-4d1c-b67b-0c17d6c6ca82",
   "metadata": {},
   "outputs": [
    {
     "name": "stdout",
     "output_type": "stream",
     "text": [
      "a 1\n"
     ]
    }
   ],
   "source": [
    "print(\"a\", 1)"
   ]
  },
  {
   "cell_type": "code",
   "execution_count": 19,
   "id": "f35da610-020f-4638-8ebd-df36357d02c5",
   "metadata": {},
   "outputs": [
    {
     "name": "stdout",
     "output_type": "stream",
     "text": [
      "a:1\n"
     ]
    }
   ],
   "source": [
    "print(\"a\", 1, sep=\":\")"
   ]
  },
  {
   "cell_type": "code",
   "execution_count": 20,
   "id": "eb55dec8-7283-4136-80c7-c6d4354b3832",
   "metadata": {},
   "outputs": [
    {
     "name": "stdout",
     "output_type": "stream",
     "text": [
      "a:1."
     ]
    }
   ],
   "source": [
    "print(\"a\", 1, sep=\":\", end=\".\")"
   ]
  },
  {
   "cell_type": "markdown",
   "id": "6c9754df-0f60-4cbb-a263-c249e91beb09",
   "metadata": {},
   "source": [
    "input 함수"
   ]
  },
  {
   "cell_type": "code",
   "execution_count": 21,
   "id": "6fd23095-e46d-40f7-9de3-ace2bb5dfe71",
   "metadata": {},
   "outputs": [
    {
     "name": "stdin",
     "output_type": "stream",
     "text": [
      " Hello\n"
     ]
    },
    {
     "data": {
      "text/plain": [
       "'Hello'"
      ]
     },
     "execution_count": 21,
     "metadata": {},
     "output_type": "execute_result"
    }
   ],
   "source": [
    "input()"
   ]
  },
  {
   "cell_type": "code",
   "execution_count": 22,
   "id": "a2d066a4-1cde-4bb8-b40e-3d8842ec34eb",
   "metadata": {},
   "outputs": [
    {
     "name": "stdin",
     "output_type": "stream",
     "text": [
      "프로그램 언어:  Python\n"
     ]
    },
    {
     "data": {
      "text/plain": [
       "'Python'"
      ]
     },
     "execution_count": 22,
     "metadata": {},
     "output_type": "execute_result"
    }
   ],
   "source": [
    "input(\"프로그램 언어: \")"
   ]
  },
  {
   "cell_type": "code",
   "execution_count": 23,
   "id": "016320a9-f473-4ac8-8801-34d94baad0c9",
   "metadata": {},
   "outputs": [
    {
     "data": {
      "text/plain": [
       "3"
      ]
     },
     "execution_count": 23,
     "metadata": {},
     "output_type": "execute_result"
    }
   ],
   "source": [
    "round(3.151592)"
   ]
  },
  {
   "cell_type": "code",
   "execution_count": 24,
   "id": "43e7b8a7-3836-4693-ad77-86487bfb55f5",
   "metadata": {},
   "outputs": [
    {
     "data": {
      "text/plain": [
       "3.14159"
      ]
     },
     "execution_count": 24,
     "metadata": {},
     "output_type": "execute_result"
    }
   ],
   "source": [
    "round(3.141592, 5)"
   ]
  },
  {
   "cell_type": "code",
   "execution_count": 25,
   "id": "7887690f-4f02-4cbe-8f13-166d07ba0d27",
   "metadata": {},
   "outputs": [
    {
     "data": {
      "text/plain": [
       "1000"
      ]
     },
     "execution_count": 25,
     "metadata": {},
     "output_type": "execute_result"
    }
   ],
   "source": [
    "max(10,100,1000)"
   ]
  },
  {
   "cell_type": "code",
   "execution_count": 26,
   "id": "ca89ce00-0c20-4685-99d2-1f9cfc7ad80a",
   "metadata": {},
   "outputs": [
    {
     "data": {
      "text/plain": [
       "10"
      ]
     },
     "execution_count": 26,
     "metadata": {},
     "output_type": "execute_result"
    }
   ],
   "source": [
    "min(10,100,1000)"
   ]
  },
  {
   "cell_type": "code",
   "execution_count": 27,
   "id": "36391e37-9cf4-468b-a903-9ef91f1cf10a",
   "metadata": {},
   "outputs": [
    {
     "data": {
      "text/plain": [
       "16"
      ]
     },
     "execution_count": 27,
     "metadata": {},
     "output_type": "execute_result"
    }
   ],
   "source": [
    "pow(2,4) # 2 ** 4"
   ]
  },
  {
   "cell_type": "code",
   "execution_count": 28,
   "id": "011f18c5-f626-413d-8949-a28498ca773c",
   "metadata": {},
   "outputs": [
    {
     "data": {
      "text/plain": [
       "18"
      ]
     },
     "execution_count": 28,
     "metadata": {},
     "output_type": "execute_result"
    }
   ],
   "source": [
    "len(\"Hello world Python\")"
   ]
  },
  {
   "cell_type": "code",
   "execution_count": 29,
   "id": "c3117411-da6d-4985-893f-3e1b68e50335",
   "metadata": {},
   "outputs": [
    {
     "data": {
      "text/plain": [
       "[('a', '1'), ('b', '2'), ('c', '3')]"
      ]
     },
     "execution_count": 29,
     "metadata": {},
     "output_type": "execute_result"
    }
   ],
   "source": [
    "list(zip(\"abc\", \"123\"))"
   ]
  },
  {
   "cell_type": "code",
   "execution_count": 30,
   "id": "0ceb7644-0fff-4dbf-aebf-a7a6bd2bdc58",
   "metadata": {},
   "outputs": [],
   "source": [
    "hello = \"Hello world Python\""
   ]
  },
  {
   "cell_type": "code",
   "execution_count": 31,
   "id": "97c4a95b-f642-44b1-b53d-b1b84000488a",
   "metadata": {},
   "outputs": [
    {
     "name": "stdout",
     "output_type": "stream",
     "text": [
      "Hello world Python\n"
     ]
    }
   ],
   "source": [
    "print(hello)"
   ]
  },
  {
   "cell_type": "code",
   "execution_count": 32,
   "id": "edb83477-7a19-47ad-93cd-8e19db7aabdf",
   "metadata": {},
   "outputs": [
    {
     "data": {
      "text/plain": [
       "'Hello world Python'"
      ]
     },
     "execution_count": 32,
     "metadata": {},
     "output_type": "execute_result"
    }
   ],
   "source": [
    "hello"
   ]
  },
  {
   "cell_type": "code",
   "execution_count": 33,
   "id": "c72f71a4-b41d-4f55-8f28-c955ac2358bd",
   "metadata": {},
   "outputs": [
    {
     "name": "stdout",
     "output_type": "stream",
     "text": [
      "Hello world Python\n",
      "Hello world Python\n"
     ]
    }
   ],
   "source": [
    "print(hello)\n",
    "print(hello)"
   ]
  },
  {
   "cell_type": "code",
   "execution_count": null,
   "id": "012787c2-5acc-4340-9b57-8c13ea5563b1",
   "metadata": {},
   "outputs": [],
   "source": []
  }
 ],
 "metadata": {
  "kernelspec": {
   "display_name": "Python 3",
   "language": "python",
   "name": "python3"
  },
  "language_info": {
   "codemirror_mode": {
    "name": "ipython",
    "version": 3
   },
   "file_extension": ".py",
   "mimetype": "text/x-python",
   "name": "python",
   "nbconvert_exporter": "python",
   "pygments_lexer": "ipython3",
   "version": "3.8.8"
  }
 },
 "nbformat": 4,
 "nbformat_minor": 5
}

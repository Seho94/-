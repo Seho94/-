{
 "cells": [
  {
   "cell_type": "markdown",
   "id": "1589dade-3027-45d9-a99b-2e04baac8bbe",
   "metadata": {},
   "source": [
    "# 7.1 파이썬 셋"
   ]
  },
  {
   "cell_type": "code",
   "execution_count": 1,
   "id": "da633349-3e2f-43d9-97e3-4108403acaf7",
   "metadata": {},
   "outputs": [
    {
     "data": {
      "text/plain": [
       "{'A', 'B', 'C', 'D', 'E', 'F'}"
      ]
     },
     "execution_count": 1,
     "metadata": {},
     "output_type": "execute_result"
    }
   ],
   "source": [
    "set1 = {'A','B','C','A','D','E','F','B'}\n",
    "set1"
   ]
  },
  {
   "cell_type": "code",
   "execution_count": 3,
   "id": "9f9ab8e2-bf28-4932-8aac-5ee35e516670",
   "metadata": {},
   "outputs": [
    {
     "ename": "TypeError",
     "evalue": "'set' object is not subscriptable",
     "output_type": "error",
     "traceback": [
      "\u001b[1;31m---------------------------------------------------------------------------\u001b[0m",
      "\u001b[1;31mTypeError\u001b[0m                                 Traceback (most recent call last)",
      "\u001b[1;32m<ipython-input-3-5e240dd07ca2>\u001b[0m in \u001b[0;36m<module>\u001b[1;34m\u001b[0m\n\u001b[1;32m----> 1\u001b[1;33m \u001b[0mset1\u001b[0m\u001b[1;33m[\u001b[0m\u001b[1;36m0\u001b[0m\u001b[1;33m]\u001b[0m \u001b[1;31m# index 사용 불가\u001b[0m\u001b[1;33m\u001b[0m\u001b[1;33m\u001b[0m\u001b[0m\n\u001b[0m",
      "\u001b[1;31mTypeError\u001b[0m: 'set' object is not subscriptable"
     ]
    }
   ],
   "source": [
    "set1[0] # index 사용 불가"
   ]
  },
  {
   "cell_type": "code",
   "execution_count": 4,
   "id": "2c59c738-dc59-44c0-a8d0-8f1db6d3e5b0",
   "metadata": {},
   "outputs": [
    {
     "ename": "TypeError",
     "evalue": "'set' object is not subscriptable",
     "output_type": "error",
     "traceback": [
      "\u001b[1;31m---------------------------------------------------------------------------\u001b[0m",
      "\u001b[1;31mTypeError\u001b[0m                                 Traceback (most recent call last)",
      "\u001b[1;32m<ipython-input-4-888197740ff6>\u001b[0m in \u001b[0;36m<module>\u001b[1;34m\u001b[0m\n\u001b[1;32m----> 1\u001b[1;33m \u001b[0mset1\u001b[0m\u001b[1;33m[\u001b[0m\u001b[1;33m:\u001b[0m\u001b[1;36m5\u001b[0m\u001b[1;33m]\u001b[0m \u001b[1;31m# slice 사용 불가\u001b[0m\u001b[1;33m\u001b[0m\u001b[1;33m\u001b[0m\u001b[0m\n\u001b[0m",
      "\u001b[1;31mTypeError\u001b[0m: 'set' object is not subscriptable"
     ]
    }
   ],
   "source": [
    "set1[:5] # slice 사용 불가"
   ]
  },
  {
   "cell_type": "code",
   "execution_count": 5,
   "id": "29e49913-91d4-405d-9b2c-8ed8b81a9cd3",
   "metadata": {},
   "outputs": [
    {
     "data": {
      "text/plain": [
       "{'A', 'B', 'C', 'D', 'E', 'F', 'a'}"
      ]
     },
     "execution_count": 5,
     "metadata": {},
     "output_type": "execute_result"
    }
   ],
   "source": [
    "set1.add('a')\n",
    "set1"
   ]
  },
  {
   "cell_type": "code",
   "execution_count": 7,
   "id": "1da50e1d-4afe-4515-8b3b-234312183aaa",
   "metadata": {},
   "outputs": [
    {
     "data": {
      "text/plain": [
       "{'A', 'B', 'C', 'D', 'E', 'F', 'a'}"
      ]
     },
     "execution_count": 7,
     "metadata": {},
     "output_type": "execute_result"
    }
   ],
   "source": [
    "set1.add('A') # 중복 add X\n",
    "set1"
   ]
  },
  {
   "cell_type": "code",
   "execution_count": 8,
   "id": "82e7fe79-e709-40b0-ac32-12ed893310f4",
   "metadata": {},
   "outputs": [
    {
     "data": {
      "text/plain": [
       "{'A', 'B', 'C', 'D', 'E', 'F'}"
      ]
     },
     "execution_count": 8,
     "metadata": {},
     "output_type": "execute_result"
    }
   ],
   "source": [
    "set1.remove('a')\n",
    "set1"
   ]
  },
  {
   "cell_type": "code",
   "execution_count": 9,
   "id": "76d8f089-55f6-48e8-bebb-f1863b942456",
   "metadata": {},
   "outputs": [
    {
     "data": {
      "text/plain": [
       "{'A', 'C', 'D', 'E', 'F'}"
      ]
     },
     "execution_count": 9,
     "metadata": {},
     "output_type": "execute_result"
    }
   ],
   "source": [
    "# list에서는 index값을 인자로 전달하지만, set에서는 마지막 인자 삭제\n",
    "set1.pop()\n",
    "set1"
   ]
  },
  {
   "cell_type": "markdown",
   "id": "b0bc809c-7a49-4ada-9340-38d45f8106f4",
   "metadata": {},
   "source": [
    "# 7.2 파이썬 셋의 집합 연산"
   ]
  },
  {
   "cell_type": "code",
   "execution_count": 10,
   "id": "6920d7a8-cf87-43fe-afd1-04cb74fc58f6",
   "metadata": {},
   "outputs": [],
   "source": [
    "set1 = {'A','B','C','D','E','F'}\n",
    "set2 = {'B','D','G','H'}"
   ]
  },
  {
   "cell_type": "code",
   "execution_count": 11,
   "id": "7b2064d7-74a1-45f8-98dc-d035f4454f99",
   "metadata": {},
   "outputs": [
    {
     "data": {
      "text/plain": [
       "{'B', 'D'}"
      ]
     },
     "execution_count": 11,
     "metadata": {},
     "output_type": "execute_result"
    }
   ],
   "source": [
    "set1 & set2 # 교집합"
   ]
  },
  {
   "cell_type": "code",
   "execution_count": 13,
   "id": "1b9be4f3-3dcf-43c1-8c27-d324fca4b640",
   "metadata": {},
   "outputs": [
    {
     "data": {
      "text/plain": [
       "{'B', 'D'}"
      ]
     },
     "execution_count": 13,
     "metadata": {},
     "output_type": "execute_result"
    }
   ],
   "source": [
    "set1.intersection(set2) # 교집합"
   ]
  },
  {
   "cell_type": "code",
   "execution_count": 14,
   "id": "7a18415f-cc40-4300-970c-a841369e18e7",
   "metadata": {},
   "outputs": [
    {
     "data": {
      "text/plain": [
       "{'A', 'B', 'C', 'D', 'E', 'F', 'G', 'H'}"
      ]
     },
     "execution_count": 14,
     "metadata": {},
     "output_type": "execute_result"
    }
   ],
   "source": [
    "set1 | set2 # 합집합"
   ]
  },
  {
   "cell_type": "code",
   "execution_count": 15,
   "id": "940af203-6391-42e2-941f-4ee56393829c",
   "metadata": {},
   "outputs": [
    {
     "data": {
      "text/plain": [
       "{'A', 'B', 'C', 'D', 'E', 'F', 'G', 'H'}"
      ]
     },
     "execution_count": 15,
     "metadata": {},
     "output_type": "execute_result"
    }
   ],
   "source": [
    "set1.union(set2) # 합집합"
   ]
  },
  {
   "cell_type": "code",
   "execution_count": 16,
   "id": "137feadf-e118-479c-a251-ad073aedad3a",
   "metadata": {},
   "outputs": [
    {
     "data": {
      "text/plain": [
       "{'A', 'C', 'E', 'F'}"
      ]
     },
     "execution_count": 16,
     "metadata": {},
     "output_type": "execute_result"
    }
   ],
   "source": [
    "set1 - set2 # 차집합"
   ]
  },
  {
   "cell_type": "code",
   "execution_count": 18,
   "id": "0c83d811-e2a3-43c6-a5a3-a62485ec16cd",
   "metadata": {},
   "outputs": [
    {
     "data": {
      "text/plain": [
       "{'A', 'C', 'E', 'F'}"
      ]
     },
     "execution_count": 18,
     "metadata": {},
     "output_type": "execute_result"
    }
   ],
   "source": [
    "set1.difference(set2) # 차집합"
   ]
  },
  {
   "cell_type": "code",
   "execution_count": 19,
   "id": "f9d34f19-d731-456a-86ca-54741efa5825",
   "metadata": {},
   "outputs": [
    {
     "data": {
      "text/plain": [
       "{'A', 'C', 'E', 'F', 'G', 'H'}"
      ]
     },
     "execution_count": 19,
     "metadata": {},
     "output_type": "execute_result"
    }
   ],
   "source": [
    "set1 ^ set2 # 대칭차집합"
   ]
  },
  {
   "cell_type": "code",
   "execution_count": 20,
   "id": "92312ce3-80d7-4543-9f68-c644cee34739",
   "metadata": {},
   "outputs": [
    {
     "data": {
      "text/plain": [
       "{'A', 'C', 'E', 'F', 'G', 'H'}"
      ]
     },
     "execution_count": 20,
     "metadata": {},
     "output_type": "execute_result"
    }
   ],
   "source": [
    "set1.symmetric_difference(set2) # 대칭차집합"
   ]
  },
  {
   "cell_type": "markdown",
   "id": "0d35ba83-a1dc-42c3-b8ff-da4413703d18",
   "metadata": {},
   "source": [
    "# 7.3 파이썬 딕셔너리"
   ]
  },
  {
   "cell_type": "code",
   "execution_count": 21,
   "id": "dfc8adf7-cf78-40d4-814b-6d88abe79ccf",
   "metadata": {},
   "outputs": [
    {
     "data": {
      "text/plain": [
       "{'수학': 100, '영어': 90}"
      ]
     },
     "execution_count": 21,
     "metadata": {},
     "output_type": "execute_result"
    }
   ],
   "source": [
    "중간고사 = {\n",
    "    '수학':100,\n",
    "    \"영어\":90,\n",
    "}\n",
    "중간고사"
   ]
  },
  {
   "cell_type": "code",
   "execution_count": 22,
   "id": "e9addfcb-f81f-4509-b54d-aef4caa04c16",
   "metadata": {},
   "outputs": [
    {
     "data": {
      "text/plain": [
       "{'수학': 100, '영어': 90, '국어': 85}"
      ]
     },
     "execution_count": 22,
     "metadata": {},
     "output_type": "execute_result"
    }
   ],
   "source": [
    "중간고사['국어'] = 85 # 새로운 키에 해당하는 value 추가\n",
    "중간고사"
   ]
  },
  {
   "cell_type": "code",
   "execution_count": 23,
   "id": "13c3c21c-9dff-4832-8231-1087e0712d56",
   "metadata": {},
   "outputs": [
    {
     "data": {
      "text/plain": [
       "90"
      ]
     },
     "execution_count": 23,
     "metadata": {},
     "output_type": "execute_result"
    }
   ],
   "source": [
    "중간고사['영어'] # 특정 키 value 조회"
   ]
  },
  {
   "cell_type": "code",
   "execution_count": 24,
   "id": "bc50415f-ea00-4c61-95aa-9dacc9f4687e",
   "metadata": {},
   "outputs": [
    {
     "data": {
      "text/plain": [
       "{'수학': 100, '영어': 95, '국어': 85}"
      ]
     },
     "execution_count": 24,
     "metadata": {},
     "output_type": "execute_result"
    }
   ],
   "source": [
    "중간고사['영어'] = 95 # key에 해당하는 value 수정\n",
    "중간고사"
   ]
  },
  {
   "cell_type": "code",
   "execution_count": 28,
   "id": "edcb458a-3806-4b5d-9678-a5f26d41fb82",
   "metadata": {},
   "outputs": [
    {
     "data": {
      "text/plain": [
       "['수학', '영어', '국어']"
      ]
     },
     "execution_count": 28,
     "metadata": {},
     "output_type": "execute_result"
    }
   ],
   "source": [
    "list(중간고사.keys()) # 키 추출"
   ]
  },
  {
   "cell_type": "code",
   "execution_count": 27,
   "id": "8a7380dc-9b99-486b-9a36-4867a785a852",
   "metadata": {},
   "outputs": [
    {
     "data": {
      "text/plain": [
       "[100, 95, 85]"
      ]
     },
     "execution_count": 27,
     "metadata": {},
     "output_type": "execute_result"
    }
   ],
   "source": [
    "list(중간고사.values()) # 값 추출"
   ]
  },
  {
   "cell_type": "code",
   "execution_count": 29,
   "id": "66fa4be8-c04b-4c65-8243-b53f72617842",
   "metadata": {},
   "outputs": [
    {
     "data": {
      "text/plain": [
       "dict_items([('수학', 100), ('영어', 95), ('국어', 85)])"
      ]
     },
     "execution_count": 29,
     "metadata": {},
     "output_type": "execute_result"
    }
   ],
   "source": [
    "중간고사.items()"
   ]
  },
  {
   "cell_type": "code",
   "execution_count": 30,
   "id": "0e712112-667d-49d4-9090-05ed90f1444e",
   "metadata": {},
   "outputs": [
    {
     "data": {
      "text/plain": [
       "85"
      ]
     },
     "execution_count": 30,
     "metadata": {},
     "output_type": "execute_result"
    }
   ],
   "source": [
    "중간고사.pop('국어')"
   ]
  },
  {
   "cell_type": "code",
   "execution_count": 31,
   "id": "d5dabbe7-9c28-43d5-96f3-f85799d5b865",
   "metadata": {},
   "outputs": [
    {
     "data": {
      "text/plain": [
       "{'수학': 100, '영어': 95}"
      ]
     },
     "execution_count": 31,
     "metadata": {},
     "output_type": "execute_result"
    }
   ],
   "source": [
    "중간고사"
   ]
  }
 ],
 "metadata": {
  "kernelspec": {
   "display_name": "Python 3",
   "language": "python",
   "name": "python3"
  },
  "language_info": {
   "codemirror_mode": {
    "name": "ipython",
    "version": 3
   },
   "file_extension": ".py",
   "mimetype": "text/x-python",
   "name": "python",
   "nbconvert_exporter": "python",
   "pygments_lexer": "ipython3",
   "version": "3.8.8"
  }
 },
 "nbformat": 4,
 "nbformat_minor": 5
}

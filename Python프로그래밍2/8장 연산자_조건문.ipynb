{
 "cells": [
  {
   "cell_type": "markdown",
   "id": "cdc3f8dc-5d86-4ca3-b420-e6307deb6ee3",
   "metadata": {},
   "source": [
    "# 8.1 파이썬 비교 연산자와 논리 연산자"
   ]
  },
  {
   "cell_type": "code",
   "execution_count": 2,
   "id": "cbd44cf1-16dd-4072-bae2-739a00131ca9",
   "metadata": {},
   "outputs": [],
   "source": [
    "x, y = 10, 5"
   ]
  },
  {
   "cell_type": "code",
   "execution_count": 3,
   "id": "9db4df26-1491-46cf-9b20-5935c88b3cec",
   "metadata": {},
   "outputs": [
    {
     "data": {
      "text/plain": [
       "False"
      ]
     },
     "execution_count": 3,
     "metadata": {},
     "output_type": "execute_result"
    }
   ],
   "source": [
    "x == y"
   ]
  },
  {
   "cell_type": "code",
   "execution_count": 4,
   "id": "920248ec-b581-46c4-8a69-05eb43cde54d",
   "metadata": {},
   "outputs": [
    {
     "data": {
      "text/plain": [
       "True"
      ]
     },
     "execution_count": 4,
     "metadata": {},
     "output_type": "execute_result"
    }
   ],
   "source": [
    "x != y"
   ]
  },
  {
   "cell_type": "code",
   "execution_count": 5,
   "id": "60d7363c-2553-43be-9f0c-bcce3b7417a0",
   "metadata": {},
   "outputs": [
    {
     "data": {
      "text/plain": [
       "True"
      ]
     },
     "execution_count": 5,
     "metadata": {},
     "output_type": "execute_result"
    }
   ],
   "source": [
    "x > y"
   ]
  },
  {
   "cell_type": "code",
   "execution_count": 6,
   "id": "60ed5e07-deea-4f42-93ba-11b46fe3dcd2",
   "metadata": {},
   "outputs": [
    {
     "data": {
      "text/plain": [
       "False"
      ]
     },
     "execution_count": 6,
     "metadata": {},
     "output_type": "execute_result"
    }
   ],
   "source": [
    "x < y"
   ]
  },
  {
   "cell_type": "code",
   "execution_count": 7,
   "id": "4b0f2395-fca0-4337-be34-8dd043268570",
   "metadata": {},
   "outputs": [
    {
     "data": {
      "text/plain": [
       "True"
      ]
     },
     "execution_count": 7,
     "metadata": {},
     "output_type": "execute_result"
    }
   ],
   "source": [
    "x >= y"
   ]
  },
  {
   "cell_type": "code",
   "execution_count": 8,
   "id": "1d1afd2e-ca86-4566-b611-975e04ea2243",
   "metadata": {},
   "outputs": [
    {
     "data": {
      "text/plain": [
       "False"
      ]
     },
     "execution_count": 8,
     "metadata": {},
     "output_type": "execute_result"
    }
   ],
   "source": [
    "x <= y"
   ]
  },
  {
   "cell_type": "code",
   "execution_count": 9,
   "id": "69d9ad37-bde7-482b-a718-d3df7db04e64",
   "metadata": {},
   "outputs": [],
   "source": [
    "x = True; y = False"
   ]
  },
  {
   "cell_type": "code",
   "execution_count": 10,
   "id": "b58c4127-36e2-4955-a95a-5addf5050566",
   "metadata": {},
   "outputs": [
    {
     "data": {
      "text/plain": [
       "False"
      ]
     },
     "execution_count": 10,
     "metadata": {},
     "output_type": "execute_result"
    }
   ],
   "source": [
    "x and y"
   ]
  },
  {
   "cell_type": "code",
   "execution_count": 11,
   "id": "dd9d206b-a2fa-4f90-b8ac-433044296315",
   "metadata": {},
   "outputs": [
    {
     "data": {
      "text/plain": [
       "True"
      ]
     },
     "execution_count": 11,
     "metadata": {},
     "output_type": "execute_result"
    }
   ],
   "source": [
    "x or y"
   ]
  },
  {
   "cell_type": "code",
   "execution_count": 12,
   "id": "6b0cb0d2-d97a-4fe1-9833-b2557aadae62",
   "metadata": {},
   "outputs": [
    {
     "data": {
      "text/plain": [
       "False"
      ]
     },
     "execution_count": 12,
     "metadata": {},
     "output_type": "execute_result"
    }
   ],
   "source": [
    "not x"
   ]
  },
  {
   "cell_type": "markdown",
   "id": "9ff50654-e570-46dc-8605-6566f875569b",
   "metadata": {},
   "source": [
    "# 8.2 파이썬 조건문"
   ]
  },
  {
   "cell_type": "code",
   "execution_count": 13,
   "id": "ff94f2d4-f23a-4498-85ee-b83e72d40201",
   "metadata": {},
   "outputs": [],
   "source": [
    "x, y = 10, 5"
   ]
  },
  {
   "cell_type": "code",
   "execution_count": 14,
   "id": "8c15564f-f2d8-46c5-a7ee-8956e269c43e",
   "metadata": {},
   "outputs": [
    {
     "name": "stdout",
     "output_type": "stream",
     "text": [
      "x가 y보다 큽니다.\n"
     ]
    }
   ],
   "source": [
    "if x > y:\n",
    "    print(\"x가 y보다 큽니다.\")"
   ]
  },
  {
   "cell_type": "code",
   "execution_count": 15,
   "id": "b0be5606-7908-4ff6-a388-c9e847f72d64",
   "metadata": {},
   "outputs": [],
   "source": [
    "x, y = 5, 10"
   ]
  },
  {
   "cell_type": "code",
   "execution_count": 16,
   "id": "4c40edde-c5ff-4925-abd5-96b34ee9fe6f",
   "metadata": {},
   "outputs": [
    {
     "name": "stdout",
     "output_type": "stream",
     "text": [
      "x가 y보다 작습니다.\n"
     ]
    }
   ],
   "source": [
    "if x > y:\n",
    "    print(\"x가 y보다 큽니다.\")\n",
    "else:\n",
    "    print(\"x가 y보다 작습니다.\")"
   ]
  },
  {
   "cell_type": "code",
   "execution_count": 17,
   "id": "e9990a67-77d0-4d3f-8dec-421212ec12d1",
   "metadata": {},
   "outputs": [],
   "source": [
    "x, y = 10, 10"
   ]
  },
  {
   "cell_type": "code",
   "execution_count": 18,
   "id": "7ac3c6c1-ca5d-4d0b-affa-e2e987bf0272",
   "metadata": {},
   "outputs": [
    {
     "name": "stdout",
     "output_type": "stream",
     "text": [
      "x와 y가 같습니다.\n"
     ]
    }
   ],
   "source": [
    "if x > y:\n",
    "    print(\"x가 y보다 큽니다.\")\n",
    "elif x == y:\n",
    "    print(\"x와 y가 같습니다.\")\n",
    "elif x < y:\n",
    "    print(\"x가 y보다 작습니다.\")"
   ]
  },
  {
   "cell_type": "code",
   "execution_count": 19,
   "id": "e0657c8a-f358-4c33-b4be-35d84ea0b50f",
   "metadata": {},
   "outputs": [],
   "source": [
    "score = 90"
   ]
  },
  {
   "cell_type": "code",
   "execution_count": 20,
   "id": "87fdbe2b-a6c1-4c50-a805-4f3e5e11480e",
   "metadata": {},
   "outputs": [
    {
     "name": "stdout",
     "output_type": "stream",
     "text": [
      "A학점입니다.\n"
     ]
    }
   ],
   "source": [
    "if score >= 90:\n",
    "    print(\"A학점입니다.\")\n",
    "elif score >= 80:\n",
    "    print(\"B학점입니다.\")\n",
    "elif score >= 70:\n",
    "    print(\"C학점입니다.\")\n",
    "elif score >= 60:\n",
    "    print(\"D학점입니다.\")\n",
    "else:\n",
    "    print(\"F학점입니다.\")"
   ]
  },
  {
   "cell_type": "code",
   "execution_count": 23,
   "id": "73567b5f-22cf-4edf-8491-40e78a2212d8",
   "metadata": {},
   "outputs": [
    {
     "name": "stdout",
     "output_type": "stream",
     "text": [
      "a는 True입니다.\n",
      "True End...\n"
     ]
    }
   ],
   "source": [
    "a = True\n",
    "if a:\n",
    "    print(\"a는 True입니다.\")\n",
    "    print(\"True End...\")\n",
    "else:\n",
    "    print(\"a는 False입니다.\")\n",
    "    print(\"False End....\") # 들여쓰기 중요"
   ]
  },
  {
   "cell_type": "markdown",
   "id": "e191fd75-6573-40c5-88cf-3ce964dbcbc9",
   "metadata": {},
   "source": [
    "# 8.3 파이썬 중첩/복합 조건문"
   ]
  },
  {
   "cell_type": "code",
   "execution_count": 24,
   "id": "5d429119-af8e-438b-8984-99747c9a7e6e",
   "metadata": {},
   "outputs": [],
   "source": [
    "a = True\n",
    "x, y = 5, 10"
   ]
  },
  {
   "cell_type": "code",
   "execution_count": 25,
   "id": "24aa983e-f6b5-4cc0-b8e9-10ce0ff57078",
   "metadata": {},
   "outputs": [
    {
     "name": "stdout",
     "output_type": "stream",
     "text": [
      "a는 True입니다.\n",
      "x가 y보다 작습니다.\n"
     ]
    }
   ],
   "source": [
    "if a == True:\n",
    "    print(\"a는 True입니다.\")\n",
    "    if x > y:\n",
    "        print(\"x가 y보다 큽니다.\")\n",
    "    else:\n",
    "        print(\"x가 y보다 작습니다.\")\n",
    "else:\n",
    "    print(\"a는 False입니다.\")"
   ]
  },
  {
   "cell_type": "code",
   "execution_count": 26,
   "id": "3be983e6-ce87-40c2-8e8a-cda02d4e6b41",
   "metadata": {},
   "outputs": [],
   "source": [
    "나이 = 30\n",
    "회원 = True"
   ]
  },
  {
   "cell_type": "code",
   "execution_count": 32,
   "id": "4d2b0b26-70d5-41b3-acb4-a9f550f47353",
   "metadata": {},
   "outputs": [
    {
     "name": "stdout",
     "output_type": "stream",
     "text": [
      "입장료는 5000 원 입니다.\n",
      "입장료는 5,000 원 입니다.\n"
     ]
    }
   ],
   "source": [
    "입장료 = 0\n",
    "\n",
    "if 회원:\n",
    "    if 나이 > 6 and 나이 <= 13:\n",
    "        입장료 = 2500\n",
    "    elif 나이 > 14 and 나이 <= 59:\n",
    "        입장료 = 5000\n",
    "else:\n",
    "    if 나이 > 6 and 나이 <= 13:\n",
    "        입장료 = 5000\n",
    "    elif 나이 > 14 and 나이 <= 59:\n",
    "        입장료 = 10000\n",
    "        \n",
    "print(f\"입장료는 {입장료} 원 입니다.\")\n",
    "print(f\"입장료는 {입장료:,} 원 입니다.\")"
   ]
  },
  {
   "cell_type": "code",
   "execution_count": 33,
   "id": "9d854c74-da4a-4e64-9f55-cb55ce5c86d7",
   "metadata": {},
   "outputs": [
    {
     "name": "stdout",
     "output_type": "stream",
     "text": [
      "입장료는 5,000 원 입니다.\n"
     ]
    }
   ],
   "source": [
    "입장료 = 0\n",
    "\n",
    "if 나이 <= 6 or 나이 >= 60:\n",
    "    입장료 = 0\n",
    "elif 나이 > 6 and 나이 <= 13:\n",
    "    입장료 = 5000\n",
    "elif 나이 > 14 and 나이 <= 59:\n",
    "    입장료 = 10000\n",
    "    \n",
    "if 회원:\n",
    "    입장료 = int(입장료 * 0.5)\n",
    "    \n",
    "print(f\"입장료는 {입장료:,} 원 입니다.\")"
   ]
  }
 ],
 "metadata": {
  "kernelspec": {
   "display_name": "Python 3",
   "language": "python",
   "name": "python3"
  },
  "language_info": {
   "codemirror_mode": {
    "name": "ipython",
    "version": 3
   },
   "file_extension": ".py",
   "mimetype": "text/x-python",
   "name": "python",
   "nbconvert_exporter": "python",
   "pygments_lexer": "ipython3",
   "version": "3.8.8"
  }
 },
 "nbformat": 4,
 "nbformat_minor": 5
}

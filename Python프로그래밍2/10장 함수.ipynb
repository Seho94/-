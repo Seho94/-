{
 "cells": [
  {
   "cell_type": "markdown",
   "id": "d4d7c2c2-24d1-425f-be5f-b62b1f263b9a",
   "metadata": {},
   "source": [
    "# 10. 1함수"
   ]
  },
  {
   "cell_type": "markdown",
   "id": "405d5fa4-15e7-437b-b53e-d9e5733ff512",
   "metadata": {},
   "source": [
    "# 10.2 사용자 정의 함수"
   ]
  },
  {
   "cell_type": "code",
   "execution_count": 1,
   "id": "e6fb7f56-78eb-4a20-a073-6a347da8e1c5",
   "metadata": {},
   "outputs": [],
   "source": [
    "def add1():\n",
    "    print(\"더하기 함수입니다.\")"
   ]
  },
  {
   "cell_type": "code",
   "execution_count": 2,
   "id": "35618825-a1e3-4926-90c5-28e9e66b8480",
   "metadata": {},
   "outputs": [
    {
     "name": "stdout",
     "output_type": "stream",
     "text": [
      "더하기 함수입니다.\n"
     ]
    }
   ],
   "source": [
    "add1()"
   ]
  },
  {
   "cell_type": "code",
   "execution_count": 3,
   "id": "38cb20b0-e4b2-457f-8b62-a874935944c0",
   "metadata": {},
   "outputs": [],
   "source": [
    "def add2(x,y):\n",
    "    print(x+y)"
   ]
  },
  {
   "cell_type": "code",
   "execution_count": 4,
   "id": "089ba9b4-3997-42ed-9e09-96ca90eb81ca",
   "metadata": {},
   "outputs": [
    {
     "name": "stdout",
     "output_type": "stream",
     "text": [
      "3\n"
     ]
    }
   ],
   "source": [
    "add2(1,2)"
   ]
  },
  {
   "cell_type": "code",
   "execution_count": 5,
   "id": "68d1659c-60d7-462e-b631-f6a2bf071f36",
   "metadata": {},
   "outputs": [],
   "source": [
    "def add3():\n",
    "    x, y = 2, 4\n",
    "    return x+ y"
   ]
  },
  {
   "cell_type": "code",
   "execution_count": 6,
   "id": "837cf9f8-a107-4411-bbf0-4d69c4f8f01d",
   "metadata": {},
   "outputs": [
    {
     "name": "stdout",
     "output_type": "stream",
     "text": [
      "6\n"
     ]
    }
   ],
   "source": [
    "re_val = add3()\n",
    "print(re_val)"
   ]
  },
  {
   "cell_type": "code",
   "execution_count": 7,
   "id": "1ac01602-19b3-4242-bf64-8e4cf0430996",
   "metadata": {},
   "outputs": [],
   "source": [
    "def add4(x,y):\n",
    "    return x+y"
   ]
  },
  {
   "cell_type": "code",
   "execution_count": 14,
   "id": "2c3b5f08-efaf-45fc-a03e-76be9f62f4be",
   "metadata": {},
   "outputs": [
    {
     "name": "stdout",
     "output_type": "stream",
     "text": [
      "5\n"
     ]
    }
   ],
   "source": [
    "re_val = add4(2,3)\n",
    "print(re_val)"
   ]
  },
  {
   "cell_type": "code",
   "execution_count": 11,
   "id": "8a4d6650-68cd-4718-9a43-52be39253691",
   "metadata": {},
   "outputs": [],
   "source": [
    "def square(x,y):\n",
    "    x = x ** 2\n",
    "    y = y ** 2\n",
    "    return x,y"
   ]
  },
  {
   "cell_type": "code",
   "execution_count": 13,
   "id": "0973f667-99fa-4642-9be2-7bef1f4e3fb6",
   "metadata": {},
   "outputs": [
    {
     "name": "stdout",
     "output_type": "stream",
     "text": [
      "4\n",
      "9\n"
     ]
    }
   ],
   "source": [
    "a, b = square(2,3)\n",
    "print(a)\n",
    "print(b)"
   ]
  },
  {
   "cell_type": "markdown",
   "id": "618b35fb-4aa0-45d4-a122-91b8f9dea0f2",
   "metadata": {},
   "source": [
    "# 10.3 함수의 매개변수"
   ]
  },
  {
   "cell_type": "code",
   "execution_count": 15,
   "id": "79b04248-d7b9-4290-827b-a92122545153",
   "metadata": {},
   "outputs": [],
   "source": [
    "def square2(x=2, y=3):\n",
    "    x = x ** 2\n",
    "    y = y ** 2\n",
    "    return x, y"
   ]
  },
  {
   "cell_type": "code",
   "execution_count": 17,
   "id": "739f415b-d5f7-4e4b-918f-6b6c19679d9a",
   "metadata": {},
   "outputs": [
    {
     "data": {
      "text/plain": [
       "(4, 9)"
      ]
     },
     "execution_count": 17,
     "metadata": {},
     "output_type": "execute_result"
    }
   ],
   "source": [
    "square2()"
   ]
  },
  {
   "cell_type": "code",
   "execution_count": 22,
   "id": "b36bbf03-6c30-458c-b62a-9178c9ab58ee",
   "metadata": {},
   "outputs": [
    {
     "data": {
      "text/plain": [
       "(4, 9)"
      ]
     },
     "execution_count": 22,
     "metadata": {},
     "output_type": "execute_result"
    }
   ],
   "source": [
    "square2(2)"
   ]
  },
  {
   "cell_type": "code",
   "execution_count": 23,
   "id": "e61eaa73-a04b-4a0a-b05c-5ebf75af7994",
   "metadata": {},
   "outputs": [
    {
     "data": {
      "text/plain": [
       "(4, 9)"
      ]
     },
     "execution_count": 23,
     "metadata": {},
     "output_type": "execute_result"
    }
   ],
   "source": [
    "square2(2,3)"
   ]
  },
  {
   "cell_type": "code",
   "execution_count": 24,
   "id": "88f33ec0-edf4-42c5-a720-35665f30e75b",
   "metadata": {},
   "outputs": [],
   "source": [
    "def square2(x=2, y=3):\n",
    "    x = x ** 2\n",
    "    y = y ** 2\n",
    "    return x, y"
   ]
  },
  {
   "cell_type": "code",
   "execution_count": 25,
   "id": "c814bb6c-1963-4d75-be6b-fb0bff3ff0b5",
   "metadata": {},
   "outputs": [
    {
     "data": {
      "text/plain": [
       "(16, 25)"
      ]
     },
     "execution_count": 25,
     "metadata": {},
     "output_type": "execute_result"
    }
   ],
   "source": [
    "square2(4,5)"
   ]
  },
  {
   "cell_type": "code",
   "execution_count": 26,
   "id": "fd439059-c5df-4d83-aca5-f735e52677ef",
   "metadata": {},
   "outputs": [
    {
     "data": {
      "text/plain": [
       "(16, 25)"
      ]
     },
     "execution_count": 26,
     "metadata": {},
     "output_type": "execute_result"
    }
   ],
   "source": [
    "square2(y=5, x= 4)"
   ]
  },
  {
   "cell_type": "code",
   "execution_count": 27,
   "id": "6e306521-face-4cc1-8513-89c87e4de0ee",
   "metadata": {},
   "outputs": [],
   "source": [
    "def changeble(x, *y): # *y: \n",
    "    print(x,y)"
   ]
  },
  {
   "cell_type": "code",
   "execution_count": 28,
   "id": "15293751-a26e-4f8b-b84f-7f93855f876e",
   "metadata": {},
   "outputs": [
    {
     "name": "stdout",
     "output_type": "stream",
     "text": [
      "1 ()\n"
     ]
    }
   ],
   "source": [
    "changeble(1)"
   ]
  },
  {
   "cell_type": "code",
   "execution_count": 29,
   "id": "cfef0b5a-a94e-4875-9787-f78b8deace9e",
   "metadata": {},
   "outputs": [
    {
     "name": "stdout",
     "output_type": "stream",
     "text": [
      "1 (2,)\n"
     ]
    }
   ],
   "source": [
    "changeble(1,2)"
   ]
  },
  {
   "cell_type": "code",
   "execution_count": 30,
   "id": "8c4e4aab-7591-490a-886c-476d2f7b3569",
   "metadata": {},
   "outputs": [
    {
     "name": "stdout",
     "output_type": "stream",
     "text": [
      "1 (2, 3)\n"
     ]
    }
   ],
   "source": [
    "changeble(1,2,3)"
   ]
  },
  {
   "cell_type": "code",
   "execution_count": 31,
   "id": "34209d57-a63f-40b4-8356-17c9f121d464",
   "metadata": {},
   "outputs": [
    {
     "name": "stdout",
     "output_type": "stream",
     "text": [
      "1 (2, 3, 4, 5)\n"
     ]
    }
   ],
   "source": [
    "changeble(1,2,3,4,5)"
   ]
  },
  {
   "cell_type": "code",
   "execution_count": null,
   "id": "a0af509d-b4de-4e36-8d96-349ab852b016",
   "metadata": {},
   "outputs": [],
   "source": []
  }
 ],
 "metadata": {
  "kernelspec": {
   "display_name": "Python 3",
   "language": "python",
   "name": "python3"
  },
  "language_info": {
   "codemirror_mode": {
    "name": "ipython",
    "version": 3
   },
   "file_extension": ".py",
   "mimetype": "text/x-python",
   "name": "python",
   "nbconvert_exporter": "python",
   "pygments_lexer": "ipython3",
   "version": "3.8.8"
  }
 },
 "nbformat": 4,
 "nbformat_minor": 5
}

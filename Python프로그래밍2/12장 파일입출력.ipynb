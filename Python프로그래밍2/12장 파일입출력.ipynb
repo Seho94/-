{
 "cells": [
  {
   "cell_type": "markdown",
   "id": "5d7c20aa-27e3-4b95-a700-c95e2b9c749a",
   "metadata": {},
   "source": [
    "# 12.1 파일 입력"
   ]
  },
  {
   "cell_type": "code",
   "execution_count": 11,
   "id": "b761f5e8-d12c-4d3c-8f87-6fc21ac2ca69",
   "metadata": {},
   "outputs": [],
   "source": [
    "fr = open('./12-1. hello.txt', 'r')"
   ]
  },
  {
   "cell_type": "code",
   "execution_count": 12,
   "id": "2628ed9d-5f6c-4e49-af94-bb91e6551f9e",
   "metadata": {},
   "outputs": [
    {
     "name": "stdout",
     "output_type": "stream",
     "text": [
      "Hello World Python!!!\n",
      "\n",
      "Welcome to Python World!!!\n"
     ]
    }
   ],
   "source": [
    "for line in fr:\n",
    "    print(line)\n",
    "fr.close()"
   ]
  },
  {
   "cell_type": "code",
   "execution_count": 14,
   "id": "770f7350-acfc-4399-8e86-b21ae1ef6671",
   "metadata": {},
   "outputs": [
    {
     "name": "stdout",
     "output_type": "stream",
     "text": [
      "Hello World Python!!!\n",
      "\n",
      "Welcome to Python World!!!\n"
     ]
    }
   ],
   "source": [
    "with open('./12-1. hello.txt', 'r') as fr:\n",
    "    for line in fr:\n",
    "        print(line)"
   ]
  },
  {
   "cell_type": "markdown",
   "id": "26a57656-d6a1-4a79-9c45-d6a1c5efb027",
   "metadata": {},
   "source": [
    "# 12.2 파일 출력"
   ]
  },
  {
   "cell_type": "code",
   "execution_count": 15,
   "id": "998ac1f7-399b-43f7-9754-00d17ce1d854",
   "metadata": {},
   "outputs": [],
   "source": [
    "fw = open('./hello_write.txt', 'w')"
   ]
  },
  {
   "cell_type": "code",
   "execution_count": 16,
   "id": "07478eef-eee2-48ca-9193-636d1ad77a76",
   "metadata": {},
   "outputs": [
    {
     "data": {
      "text/plain": [
       "22"
      ]
     },
     "execution_count": 16,
     "metadata": {},
     "output_type": "execute_result"
    }
   ],
   "source": [
    "fw.write(\"Hello World Python!!!\\n\")"
   ]
  },
  {
   "cell_type": "code",
   "execution_count": 17,
   "id": "189726e2-9daf-44cf-81e2-6fabc36f568d",
   "metadata": {},
   "outputs": [
    {
     "data": {
      "text/plain": [
       "26"
      ]
     },
     "execution_count": 17,
     "metadata": {},
     "output_type": "execute_result"
    }
   ],
   "source": [
    "fw.write(\"Welcome to Python World!!!\")"
   ]
  },
  {
   "cell_type": "code",
   "execution_count": 18,
   "id": "de4f2159-cbdf-49dd-8b0e-f325cd2389ca",
   "metadata": {},
   "outputs": [],
   "source": [
    "fw.close()"
   ]
  },
  {
   "cell_type": "code",
   "execution_count": 19,
   "id": "447c960b-9155-4c4a-9f6e-b422b2419461",
   "metadata": {},
   "outputs": [],
   "source": [
    "with open('./hello_write.txt', 'w') as fw:\n",
    "    fw.write(\"Hello World Python!!!\\n\")\n",
    "    fw.write(\"Welcome to Python World!!!\\n\")"
   ]
  },
  {
   "cell_type": "code",
   "execution_count": 20,
   "id": "112a1fe4-1e95-47de-b649-aedb8171d99c",
   "metadata": {},
   "outputs": [],
   "source": [
    "with open('./hello_write.txt', 'a') as fw:\n",
    "    fw.write(\"New line append!!!\")"
   ]
  },
  {
   "cell_type": "markdown",
   "id": "4851fa9d-dff3-447b-9ad3-4d4352306eeb",
   "metadata": {},
   "source": [
    "# 12.3 파일시스템"
   ]
  },
  {
   "cell_type": "code",
   "execution_count": 21,
   "id": "88c6024c-c434-4520-b6f6-50b6f3d75128",
   "metadata": {},
   "outputs": [],
   "source": [
    "import os"
   ]
  },
  {
   "cell_type": "code",
   "execution_count": 22,
   "id": "f1eb3821-dbfb-45f7-919a-d714911ddef6",
   "metadata": {},
   "outputs": [
    {
     "data": {
      "text/plain": [
       "['.ipynb_checkpoints',\n",
       " '10장 함수.ipynb',\n",
       " '11장 모듈.ipynb',\n",
       " '12-1. hello.txt',\n",
       " '12장 파일입출력.ipynb',\n",
       " '7장 Set_Dictionary.ipynb',\n",
       " '8장 연산자_조건문.ipynb',\n",
       " '9장 반복문.ipynb',\n",
       " 'hello_write.txt',\n",
       " 'mymodule',\n",
       " 'myprint.py',\n",
       " '__pycache__']"
      ]
     },
     "execution_count": 22,
     "metadata": {},
     "output_type": "execute_result"
    }
   ],
   "source": [
    "os.listdir('.')"
   ]
  },
  {
   "cell_type": "code",
   "execution_count": 23,
   "id": "54e4446a-d864-4830-bd09-52a30ec02359",
   "metadata": {},
   "outputs": [],
   "source": [
    "file_list = os.listdir('.')"
   ]
  },
  {
   "cell_type": "code",
   "execution_count": 24,
   "id": "1f0414de-403d-49f7-94a1-e0d07f5f2298",
   "metadata": {},
   "outputs": [
    {
     "data": {
      "text/plain": [
       "['10장 함수.ipynb',\n",
       " '11장 모듈.ipynb',\n",
       " '12장 파일입출력.ipynb',\n",
       " '7장 Set_Dictionary.ipynb',\n",
       " '8장 연산자_조건문.ipynb',\n",
       " '9장 반복문.ipynb']"
      ]
     },
     "execution_count": 24,
     "metadata": {},
     "output_type": "execute_result"
    }
   ],
   "source": [
    "file_ipynb = [f for f in file_list if f.endswith('.ipynb')]\n",
    "file_ipynb"
   ]
  },
  {
   "cell_type": "code",
   "execution_count": 25,
   "id": "9b2140c8-f899-485e-9b6a-f0b2af7a5a2f",
   "metadata": {},
   "outputs": [
    {
     "data": {
      "text/plain": [
       "'C:\\\\python\\\\210707_Python프로그래밍2'"
      ]
     },
     "execution_count": 25,
     "metadata": {},
     "output_type": "execute_result"
    }
   ],
   "source": [
    "os.getcwd()"
   ]
  },
  {
   "cell_type": "code",
   "execution_count": 26,
   "id": "429634ae-4ad2-4427-8111-9d3c6bc75535",
   "metadata": {},
   "outputs": [],
   "source": [
    "os.mkdir('test')"
   ]
  },
  {
   "cell_type": "code",
   "execution_count": 27,
   "id": "084515f9-4fad-485c-be98-7ea156b02d36",
   "metadata": {},
   "outputs": [
    {
     "data": {
      "text/plain": [
       "'.\\\\test'"
      ]
     },
     "execution_count": 27,
     "metadata": {},
     "output_type": "execute_result"
    }
   ],
   "source": [
    "os.path.join('.', 'test')"
   ]
  },
  {
   "cell_type": "code",
   "execution_count": 28,
   "id": "e0fa2c3f-d388-42b9-b699-f14b4fb500c1",
   "metadata": {},
   "outputs": [
    {
     "data": {
      "text/plain": [
       "'C:\\\\python\\\\210707_Python프로그래밍2\\\\hello_write.txt'"
      ]
     },
     "execution_count": 28,
     "metadata": {},
     "output_type": "execute_result"
    }
   ],
   "source": [
    "os.path.abspath('hello_write.txt')"
   ]
  },
  {
   "cell_type": "code",
   "execution_count": 29,
   "id": "2bc659c2-8c39-4dec-97e8-a0f2764997ee",
   "metadata": {},
   "outputs": [
    {
     "data": {
      "text/plain": [
       "True"
      ]
     },
     "execution_count": 29,
     "metadata": {},
     "output_type": "execute_result"
    }
   ],
   "source": [
    "os.path.isfile('hello_write.txt')"
   ]
  },
  {
   "cell_type": "code",
   "execution_count": 30,
   "id": "a205f780-a7c4-4cb0-a095-1e7c8619a7bd",
   "metadata": {},
   "outputs": [
    {
     "data": {
      "text/plain": [
       "True"
      ]
     },
     "execution_count": 30,
     "metadata": {},
     "output_type": "execute_result"
    }
   ],
   "source": [
    "os.path.isdir('test')"
   ]
  },
  {
   "cell_type": "code",
   "execution_count": 31,
   "id": "65b8fe35-10c5-443c-868b-1d28af6879a6",
   "metadata": {},
   "outputs": [
    {
     "data": {
      "text/plain": [
       "('C:\\\\python\\\\210707_Python프로그래밍2', 'hello_write.txt')"
      ]
     },
     "execution_count": 31,
     "metadata": {},
     "output_type": "execute_result"
    }
   ],
   "source": [
    "os.path.split(os.path.abspath('hello_write.txt'))"
   ]
  },
  {
   "cell_type": "code",
   "execution_count": 32,
   "id": "62b72b36-f1c8-4212-9126-b4a41a03713c",
   "metadata": {},
   "outputs": [
    {
     "data": {
      "text/plain": [
       "('hello_write', '.txt')"
      ]
     },
     "execution_count": 32,
     "metadata": {},
     "output_type": "execute_result"
    }
   ],
   "source": [
    "os.path.splitext('hello_write.txt')"
   ]
  },
  {
   "cell_type": "code",
   "execution_count": null,
   "id": "ae928bf4-e7e1-488a-a0eb-deb08c6f6109",
   "metadata": {},
   "outputs": [],
   "source": []
  }
 ],
 "metadata": {
  "kernelspec": {
   "display_name": "Python 3",
   "language": "python",
   "name": "python3"
  },
  "language_info": {
   "codemirror_mode": {
    "name": "ipython",
    "version": 3
   },
   "file_extension": ".py",
   "mimetype": "text/x-python",
   "name": "python",
   "nbconvert_exporter": "python",
   "pygments_lexer": "ipython3",
   "version": "3.8.8"
  }
 },
 "nbformat": 4,
 "nbformat_minor": 5
}

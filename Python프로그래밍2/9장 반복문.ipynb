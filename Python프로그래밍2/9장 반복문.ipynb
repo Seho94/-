{
 "cells": [
  {
   "cell_type": "markdown",
   "id": "5704c06d-ee10-4908-86d1-e4ce253e14b0",
   "metadata": {},
   "source": [
    "# 9.1 파이썬 for 반복문"
   ]
  },
  {
   "cell_type": "code",
   "execution_count": 1,
   "id": "8c5a7faa-1ee7-43bb-a3fc-1a6bff3cc066",
   "metadata": {},
   "outputs": [
    {
     "name": "stdout",
     "output_type": "stream",
     "text": [
      "1\n",
      "2\n",
      "3\n"
     ]
    }
   ],
   "source": [
    "for num in [1,2,3]:\n",
    "    print(num)"
   ]
  },
  {
   "cell_type": "code",
   "execution_count": 2,
   "id": "c30fa0ef-1deb-4d6f-be6b-0e4e582b7f6f",
   "metadata": {},
   "outputs": [
    {
     "name": "stdout",
     "output_type": "stream",
     "text": [
      "Hello\n",
      "World\n",
      "Python\n"
     ]
    }
   ],
   "source": [
    "for st in ['Hello', 'World', 'Python']:\n",
    "    print(st)"
   ]
  },
  {
   "cell_type": "code",
   "execution_count": 3,
   "id": "0cfd551d-3391-4fb0-8602-bf0305c98e7d",
   "metadata": {},
   "outputs": [],
   "source": [
    "score = {\"국어\":95, \"영어\":90, \"수학\":80}"
   ]
  },
  {
   "cell_type": "code",
   "execution_count": 4,
   "id": "84b8bd6c-fe8a-48a2-ad6c-1fa1ea339ead",
   "metadata": {},
   "outputs": [
    {
     "name": "stdout",
     "output_type": "stream",
     "text": [
      "국어\n",
      "영어\n",
      "수학\n"
     ]
    }
   ],
   "source": [
    "for item in score.keys():\n",
    "    print(item)"
   ]
  },
  {
   "cell_type": "code",
   "execution_count": 5,
   "id": "c9a61d8c-0376-49f6-80e1-af678874c640",
   "metadata": {},
   "outputs": [
    {
     "name": "stdout",
     "output_type": "stream",
     "text": [
      "95\n",
      "90\n",
      "80\n"
     ]
    }
   ],
   "source": [
    "for item in score.values():\n",
    "    print(item)"
   ]
  },
  {
   "cell_type": "code",
   "execution_count": 6,
   "id": "3bd29c37-d9cf-4b13-97a9-6ef361c336bd",
   "metadata": {},
   "outputs": [
    {
     "name": "stdout",
     "output_type": "stream",
     "text": [
      "국어과목 점수는 95점 입니다.\n",
      "영어과목 점수는 90점 입니다.\n",
      "수학과목 점수는 80점 입니다.\n"
     ]
    }
   ],
   "source": [
    "for key, value in score.items():\n",
    "    print(f\"{key}과목 점수는 {value}점 입니다.\")"
   ]
  },
  {
   "cell_type": "code",
   "execution_count": 7,
   "id": "4269c972-578a-49a6-ba1f-93a0ee15e958",
   "metadata": {},
   "outputs": [
    {
     "data": {
      "text/plain": [
       "[0, 1, 2, 3, 4, 5, 6, 7, 8, 9]"
      ]
     },
     "execution_count": 7,
     "metadata": {},
     "output_type": "execute_result"
    }
   ],
   "source": [
    "list(range(10))"
   ]
  },
  {
   "cell_type": "code",
   "execution_count": 8,
   "id": "433cb260-2327-4062-b8ec-0183280cf780",
   "metadata": {},
   "outputs": [
    {
     "data": {
      "text/plain": [
       "[1, 2, 3, 4, 5, 6, 7, 8, 9, 10]"
      ]
     },
     "execution_count": 8,
     "metadata": {},
     "output_type": "execute_result"
    }
   ],
   "source": [
    "list(range(1,11))"
   ]
  },
  {
   "cell_type": "code",
   "execution_count": 9,
   "id": "28ff474d-7b93-4fff-9472-a57fc5b66080",
   "metadata": {},
   "outputs": [
    {
     "data": {
      "text/plain": [
       "[10, 9, 8, 7, 6, 5, 4, 3, 2, 1]"
      ]
     },
     "execution_count": 9,
     "metadata": {},
     "output_type": "execute_result"
    }
   ],
   "source": [
    "list(range(10,0,-1))"
   ]
  },
  {
   "cell_type": "code",
   "execution_count": 10,
   "id": "9b38c05f-8a73-4a2c-b47c-c8e1e780db02",
   "metadata": {},
   "outputs": [
    {
     "name": "stdout",
     "output_type": "stream",
     "text": [
      "1\n",
      "3\n",
      "5\n",
      "7\n",
      "9\n"
     ]
    }
   ],
   "source": [
    "for i in range(1, 11, 2):\n",
    "    print(i)"
   ]
  },
  {
   "cell_type": "code",
   "execution_count": 11,
   "id": "daf1d0d6-e200-459e-bc89-4b46cbdcbe35",
   "metadata": {},
   "outputs": [
    {
     "name": "stdout",
     "output_type": "stream",
     "text": [
      "0\n",
      "2\n",
      "4\n",
      "6\n",
      "8\n",
      "10\n"
     ]
    }
   ],
   "source": [
    "for i in range(0,11,2):\n",
    "    print(i)"
   ]
  },
  {
   "cell_type": "code",
   "execution_count": 12,
   "id": "ab67d3b8-810b-47a1-9d48-1135b7e86068",
   "metadata": {},
   "outputs": [
    {
     "name": "stdout",
     "output_type": "stream",
     "text": [
      "2 X 1 = 2\n",
      "2 X 2 = 4\n",
      "2 X 3 = 6\n",
      "2 X 4 = 8\n",
      "2 X 5 = 10\n",
      "2 X 6 = 12\n",
      "2 X 7 = 14\n",
      "2 X 8 = 16\n",
      "2 X 9 = 18\n",
      "구구단 2단을 종료\n"
     ]
    }
   ],
   "source": [
    "for i in range(1, 10):\n",
    "    answer = 2 * i\n",
    "    print(f'2 X {i} = {answer}')\n",
    "else:\n",
    "    print('구구단 2단을 종료')"
   ]
  },
  {
   "cell_type": "markdown",
   "id": "2bb08dc6-3a1a-4cc8-8bb6-ff69f7c48d95",
   "metadata": {},
   "source": [
    "# 9.2 파이썬 while 반복문"
   ]
  },
  {
   "cell_type": "code",
   "execution_count": 13,
   "id": "d214a547-4049-4710-b1cd-1289e4a31dfb",
   "metadata": {},
   "outputs": [],
   "source": [
    "a = 0"
   ]
  },
  {
   "cell_type": "code",
   "execution_count": 14,
   "id": "d8e3039f-b656-4c22-bcb2-31565cd58d1e",
   "metadata": {},
   "outputs": [
    {
     "name": "stdout",
     "output_type": "stream",
     "text": [
      "0\n",
      "1\n",
      "2\n",
      "3\n",
      "4\n",
      "5\n",
      "6\n",
      "7\n",
      "8\n",
      "9\n",
      "a가 10이므로 종료합니다.\n"
     ]
    }
   ],
   "source": [
    "while a<10:\n",
    "    print(a)\n",
    "    a += 1\n",
    "else:\n",
    "    print(f\"a가 {a}이므로 종료합니다.\")"
   ]
  },
  {
   "cell_type": "code",
   "execution_count": 15,
   "id": "c8ecde3e-cb40-42c5-9486-ab1aa801cb5b",
   "metadata": {},
   "outputs": [],
   "source": [
    "x = 0"
   ]
  },
  {
   "cell_type": "code",
   "execution_count": 16,
   "id": "8c370be7-17d2-408e-a6e5-2f3e12bf9176",
   "metadata": {},
   "outputs": [
    {
     "name": "stdout",
     "output_type": "stream",
     "text": [
      "3\n",
      "6\n",
      "9\n",
      "12\n",
      "15\n",
      "18\n",
      "21\n",
      "24\n",
      "27\n",
      "30\n",
      "33\n",
      "36\n",
      "39\n",
      "42\n",
      "45\n",
      "48\n",
      "51\n",
      "54\n",
      "57\n",
      "60\n",
      "63\n",
      "66\n",
      "69\n",
      "72\n",
      "75\n",
      "78\n",
      "81\n",
      "84\n",
      "87\n",
      "90\n",
      "93\n",
      "96\n",
      "99\n",
      "102\n"
     ]
    }
   ],
   "source": [
    "while True:\n",
    "    x += 3\n",
    "    print(x)\n",
    "    if x > 100 and x % 3 ==0:\n",
    "        break"
   ]
  },
  {
   "cell_type": "markdown",
   "id": "b78f6ff0-6a13-415c-b026-84b6f01926b8",
   "metadata": {},
   "source": [
    "# 9.3 리스트 컴프리헨션"
   ]
  },
  {
   "cell_type": "code",
   "execution_count": 17,
   "id": "67538336-05ae-4eb4-82d7-2a45ee70aef3",
   "metadata": {},
   "outputs": [
    {
     "name": "stdout",
     "output_type": "stream",
     "text": [
      "[1, 2, 3, 4, 5, 6, 7, 8, 9, 10]\n"
     ]
    }
   ],
   "source": [
    "list1 = list(range(1,11))\n",
    "print(list1)"
   ]
  },
  {
   "cell_type": "code",
   "execution_count": 18,
   "id": "283907a7-0fd4-404a-b2af-0f1bb1ce9982",
   "metadata": {},
   "outputs": [
    {
     "data": {
      "text/plain": [
       "[2, 4, 6, 8, 10, 12, 14, 16, 18, 20]"
      ]
     },
     "execution_count": 18,
     "metadata": {},
     "output_type": "execute_result"
    }
   ],
   "source": [
    "list2 = [i*2 for i in list1]\n",
    "list2"
   ]
  },
  {
   "cell_type": "code",
   "execution_count": 19,
   "id": "2100ec49-2c55-4b55-9c6a-45f79a59719e",
   "metadata": {},
   "outputs": [
    {
     "name": "stdout",
     "output_type": "stream",
     "text": [
      "[1, 2, 3, 4, 5, 6, 7, 8, 9, 10]\n"
     ]
    }
   ],
   "source": [
    "list1 = list(range(1,11))\n",
    "print(list1)"
   ]
  },
  {
   "cell_type": "code",
   "execution_count": 20,
   "id": "200e3724-b420-4293-8bb7-c5e26efbb810",
   "metadata": {},
   "outputs": [
    {
     "data": {
      "text/plain": [
       "[1, 9, 25, 49, 81]"
      ]
     },
     "execution_count": 20,
     "metadata": {},
     "output_type": "execute_result"
    }
   ],
   "source": [
    "list3 = [i**2 for i in list1 if i%2==1]\n",
    "list3"
   ]
  },
  {
   "cell_type": "code",
   "execution_count": null,
   "id": "d7cb1151-19db-450c-a5f1-13c987c52ddd",
   "metadata": {},
   "outputs": [],
   "source": []
  }
 ],
 "metadata": {
  "kernelspec": {
   "display_name": "Python 3",
   "language": "python",
   "name": "python3"
  },
  "language_info": {
   "codemirror_mode": {
    "name": "ipython",
    "version": 3
   },
   "file_extension": ".py",
   "mimetype": "text/x-python",
   "name": "python",
   "nbconvert_exporter": "python",
   "pygments_lexer": "ipython3",
   "version": "3.8.8"
  }
 },
 "nbformat": 4,
 "nbformat_minor": 5
}
